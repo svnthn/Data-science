{
 "cells": [
  {
   "cell_type": "markdown",
   "metadata": {},
   "source": [
    "# Examining Racial Discrimination in the US Job Market\n",
    "\n",
    "### Background\n",
    "Racial discrimination continues to be pervasive in cultures throughout the world. Researchers examined the level of racial discrimination in the United States labor market by randomly assigning identical résumés to black-sounding or white-sounding names and observing the impact on requests for interviews from employers.\n",
    "\n",
    "### Data\n",
    "In the dataset provided, each row represents a resume. The 'race' column has two values, 'b' and 'w', indicating black-sounding and white-sounding. The column 'call' has two values, 1 and 0, indicating whether the resume received a call from employers or not.\n",
    "\n",
    "Note that the 'b' and 'w' values in race are assigned randomly to the resumes when presented to the employer."
   ]
  },
  {
   "cell_type": "markdown",
   "metadata": {},
   "source": [
    "### Exercises\n",
    "You will perform a statistical analysis to establish whether race has a significant impact on the rate of callbacks for resumes.\n",
    "\n",
    "Answer the following questions **in this notebook below and submit to your Github account**. \n",
    "\n",
    "   1. What test is appropriate for this problem? Does CLT apply?\n",
    "   2. What are the null and alternate hypotheses?\n",
    "   3. Compute margin of error, confidence interval, and p-value. Try using both the bootstrapping and the frequentist statistical approaches.\n",
    "   4. Write a story describing the statistical significance in the context or the original problem.\n",
    "   5. Does your analysis mean that race/name is the most important factor in callback success? Why or why not? If not, how would you amend your analysis?\n",
    "\n",
    "You can include written notes in notebook cells using Markdown: \n",
    "   - In the control panel at the top, choose Cell > Cell Type > Markdown\n",
    "   - Markdown syntax: http://nestacms.com/docs/creating-content/markdown-cheat-sheet\n",
    "\n",
    "#### Resources\n",
    "+ Experiment information and data source: http://www.povertyactionlab.org/evaluation/discrimination-job-market-united-states\n",
    "+ Scipy statistical methods: http://docs.scipy.org/doc/scipy/reference/stats.html \n",
    "+ Markdown syntax: http://nestacms.com/docs/creating-content/markdown-cheat-sheet\n",
    "+ Formulas for the Bernoulli distribution: https://en.wikipedia.org/wiki/Bernoulli_distribution"
   ]
  },
  {
   "cell_type": "code",
   "execution_count": 2,
   "metadata": {},
   "outputs": [],
   "source": [
    "import pandas as pd\n",
    "import numpy as np\n",
    "from scipy import stats\n",
    "from statsmodels.stats.proportion import proportions_ztest"
   ]
  },
  {
   "cell_type": "code",
   "execution_count": 3,
   "metadata": {},
   "outputs": [],
   "source": [
    "data = pd.io.stata.read_stata('data/us_job_market_discrimination.dta')"
   ]
  },
  {
   "cell_type": "code",
   "execution_count": 5,
   "metadata": {},
   "outputs": [
    {
     "data": {
      "text/html": [
       "<div>\n",
       "<style scoped>\n",
       "    .dataframe tbody tr th:only-of-type {\n",
       "        vertical-align: middle;\n",
       "    }\n",
       "\n",
       "    .dataframe tbody tr th {\n",
       "        vertical-align: top;\n",
       "    }\n",
       "\n",
       "    .dataframe thead th {\n",
       "        text-align: right;\n",
       "    }\n",
       "</style>\n",
       "<table border=\"1\" class=\"dataframe\">\n",
       "  <thead>\n",
       "    <tr style=\"text-align: right;\">\n",
       "      <th></th>\n",
       "      <th>id</th>\n",
       "      <th>ad</th>\n",
       "      <th>education</th>\n",
       "      <th>ofjobs</th>\n",
       "      <th>yearsexp</th>\n",
       "      <th>honors</th>\n",
       "      <th>volunteer</th>\n",
       "      <th>military</th>\n",
       "      <th>empholes</th>\n",
       "      <th>occupspecific</th>\n",
       "      <th>...</th>\n",
       "      <th>compreq</th>\n",
       "      <th>orgreq</th>\n",
       "      <th>manuf</th>\n",
       "      <th>transcom</th>\n",
       "      <th>bankreal</th>\n",
       "      <th>trade</th>\n",
       "      <th>busservice</th>\n",
       "      <th>othservice</th>\n",
       "      <th>missind</th>\n",
       "      <th>ownership</th>\n",
       "    </tr>\n",
       "  </thead>\n",
       "  <tbody>\n",
       "    <tr>\n",
       "      <th>0</th>\n",
       "      <td>b</td>\n",
       "      <td>1</td>\n",
       "      <td>4</td>\n",
       "      <td>2</td>\n",
       "      <td>6</td>\n",
       "      <td>0</td>\n",
       "      <td>0</td>\n",
       "      <td>0</td>\n",
       "      <td>1</td>\n",
       "      <td>17</td>\n",
       "      <td>...</td>\n",
       "      <td>1.0</td>\n",
       "      <td>0.0</td>\n",
       "      <td>1.0</td>\n",
       "      <td>0.0</td>\n",
       "      <td>0.0</td>\n",
       "      <td>0.0</td>\n",
       "      <td>0.0</td>\n",
       "      <td>0.0</td>\n",
       "      <td>0.0</td>\n",
       "      <td></td>\n",
       "    </tr>\n",
       "    <tr>\n",
       "      <th>1</th>\n",
       "      <td>b</td>\n",
       "      <td>1</td>\n",
       "      <td>3</td>\n",
       "      <td>3</td>\n",
       "      <td>6</td>\n",
       "      <td>0</td>\n",
       "      <td>1</td>\n",
       "      <td>1</td>\n",
       "      <td>0</td>\n",
       "      <td>316</td>\n",
       "      <td>...</td>\n",
       "      <td>1.0</td>\n",
       "      <td>0.0</td>\n",
       "      <td>1.0</td>\n",
       "      <td>0.0</td>\n",
       "      <td>0.0</td>\n",
       "      <td>0.0</td>\n",
       "      <td>0.0</td>\n",
       "      <td>0.0</td>\n",
       "      <td>0.0</td>\n",
       "      <td></td>\n",
       "    </tr>\n",
       "    <tr>\n",
       "      <th>2</th>\n",
       "      <td>b</td>\n",
       "      <td>1</td>\n",
       "      <td>4</td>\n",
       "      <td>1</td>\n",
       "      <td>6</td>\n",
       "      <td>0</td>\n",
       "      <td>0</td>\n",
       "      <td>0</td>\n",
       "      <td>0</td>\n",
       "      <td>19</td>\n",
       "      <td>...</td>\n",
       "      <td>1.0</td>\n",
       "      <td>0.0</td>\n",
       "      <td>1.0</td>\n",
       "      <td>0.0</td>\n",
       "      <td>0.0</td>\n",
       "      <td>0.0</td>\n",
       "      <td>0.0</td>\n",
       "      <td>0.0</td>\n",
       "      <td>0.0</td>\n",
       "      <td></td>\n",
       "    </tr>\n",
       "    <tr>\n",
       "      <th>3</th>\n",
       "      <td>b</td>\n",
       "      <td>1</td>\n",
       "      <td>3</td>\n",
       "      <td>4</td>\n",
       "      <td>6</td>\n",
       "      <td>0</td>\n",
       "      <td>1</td>\n",
       "      <td>0</td>\n",
       "      <td>1</td>\n",
       "      <td>313</td>\n",
       "      <td>...</td>\n",
       "      <td>1.0</td>\n",
       "      <td>0.0</td>\n",
       "      <td>1.0</td>\n",
       "      <td>0.0</td>\n",
       "      <td>0.0</td>\n",
       "      <td>0.0</td>\n",
       "      <td>0.0</td>\n",
       "      <td>0.0</td>\n",
       "      <td>0.0</td>\n",
       "      <td></td>\n",
       "    </tr>\n",
       "    <tr>\n",
       "      <th>4</th>\n",
       "      <td>b</td>\n",
       "      <td>1</td>\n",
       "      <td>3</td>\n",
       "      <td>3</td>\n",
       "      <td>22</td>\n",
       "      <td>0</td>\n",
       "      <td>0</td>\n",
       "      <td>0</td>\n",
       "      <td>0</td>\n",
       "      <td>313</td>\n",
       "      <td>...</td>\n",
       "      <td>1.0</td>\n",
       "      <td>1.0</td>\n",
       "      <td>0.0</td>\n",
       "      <td>0.0</td>\n",
       "      <td>0.0</td>\n",
       "      <td>0.0</td>\n",
       "      <td>0.0</td>\n",
       "      <td>1.0</td>\n",
       "      <td>0.0</td>\n",
       "      <td>Nonprofit</td>\n",
       "    </tr>\n",
       "  </tbody>\n",
       "</table>\n",
       "<p>5 rows × 65 columns</p>\n",
       "</div>"
      ],
      "text/plain": [
       "  id ad  education  ofjobs  yearsexp  honors  volunteer  military  empholes  \\\n",
       "0  b  1          4       2         6       0          0         0         1   \n",
       "1  b  1          3       3         6       0          1         1         0   \n",
       "2  b  1          4       1         6       0          0         0         0   \n",
       "3  b  1          3       4         6       0          1         0         1   \n",
       "4  b  1          3       3        22       0          0         0         0   \n",
       "\n",
       "   occupspecific    ...      compreq  orgreq  manuf  transcom  bankreal trade  \\\n",
       "0             17    ...          1.0     0.0    1.0       0.0       0.0   0.0   \n",
       "1            316    ...          1.0     0.0    1.0       0.0       0.0   0.0   \n",
       "2             19    ...          1.0     0.0    1.0       0.0       0.0   0.0   \n",
       "3            313    ...          1.0     0.0    1.0       0.0       0.0   0.0   \n",
       "4            313    ...          1.0     1.0    0.0       0.0       0.0   0.0   \n",
       "\n",
       "  busservice othservice  missind  ownership  \n",
       "0        0.0        0.0      0.0             \n",
       "1        0.0        0.0      0.0             \n",
       "2        0.0        0.0      0.0             \n",
       "3        0.0        0.0      0.0             \n",
       "4        0.0        1.0      0.0  Nonprofit  \n",
       "\n",
       "[5 rows x 65 columns]"
      ]
     },
     "execution_count": 5,
     "metadata": {},
     "output_type": "execute_result"
    }
   ],
   "source": [
    "data.head()"
   ]
  },
  {
   "cell_type": "markdown",
   "metadata": {
    "collapsed": true
   },
   "source": [
    "### 1. What test is appropriate for this problem? Does CLT apply? ###"
   ]
  },
  {
   "cell_type": "markdown",
   "metadata": {},
   "source": [
    "A z-test for a difference of proportions is appropriate for this problem. This test is appropriate because the data comes from two independent populations (applicants with 'black-sounding' versus 'white-sounding' names), and the variable of interest is the 'call' variable, which is a Bernoulli random variable where a value of 1 denotes success in getting a callback and 0 means no callback. Since this variable has values of only 0 or 1, we can count the number of successes and find the proportion of callbacks. The CLT applies because (1) the names are randomly assigned to resumes, which creates two independent samples and (2) for each group, the sample size multiplied by the proportion of successes and failures respectively (i.e. the number of successes and failures) is greater than or equal to 10, sufficient to use a normal approximation for the binomial distribution of the difference in proportions. The calculations to find the proportions in each sample are shown below."
   ]
  },
  {
   "cell_type": "code",
   "execution_count": 22,
   "metadata": {},
   "outputs": [
    {
     "name": "stdout",
     "output_type": "stream",
     "text": [
      "Proportion of applicants with black-sounding names who were called back: 0.06447638603696099\n",
      "Proportion of applicants with white-sounding names who were called back: 0.09650924024640657\n",
      "\n",
      "Check conditions needed to use normal approximation and CLT:\n",
      "Is the number of successes in the black-sounding names sample at least 10? True\n",
      "Is the number of successes in the white-sounding names sample at least 10? True\n",
      "Is the number of failures in the black-sounding names sample at least 10? True\n",
      "Is the number of failures in the white-sounding names sample at least 10? True\n"
     ]
    }
   ],
   "source": [
    "#Split data into applicants with white-sounding names and applicants with black-sounding names and find the size of each sample\n",
    "\n",
    "b = data[data.race=='b']\n",
    "w = data[data.race=='w']\n",
    "\n",
    "num_b = len(b)\n",
    "num_w = len(w)\n",
    "\n",
    "#Find number of successes in each sample\n",
    "\n",
    "b_num_success = len(b[b['call'] == 1])\n",
    "w_num_success = len(w[w['call'] == 1])\n",
    "\n",
    "#Find proportion of successes in each sample\n",
    "\n",
    "prop_w_success = float(w_num_success) / num_w\n",
    "prop_b_success = float(b_num_success) / num_b\n",
    "print('Proportion of applicants with black-sounding names who were called back: ' + str(prop_b_success))\n",
    "print('Proportion of applicants with white-sounding names who were called back: ' + str(prop_w_success) + '\\n')\n",
    "\n",
    "#Check conditions for CLT, if all are true, necessary conditions are met\n",
    "\n",
    "print('Check conditions needed to use normal approximation and CLT:')\n",
    "print('Is the number of successes in the black-sounding names sample at least 10? ' + str(b_num_success >= 10))\n",
    "print('Is the number of successes in the white-sounding names sample at least 10? ' + str(w_num_success >= 10))\n",
    "print('Is the number of failures in the black-sounding names sample at least 10? ' + str((num_b - b_num_success) >= 10))\n",
    "print('Is the number of failures in the white-sounding names sample at least 10? ' + str((num_w - w_num_success) >= 10))\n"
   ]
  },
  {
   "cell_type": "markdown",
   "metadata": {},
   "source": [
    "### 2. What are the null and alternate hypotheses? ###"
   ]
  },
  {
   "cell_type": "markdown",
   "metadata": {},
   "source": [
    "The null hypothesis is that the proportion of applicants with black-sounding names who were called back is equal to the proportion of applicants with white-sounding names who were called back: \n",
    "\n",
    "p_b = p_w\n",
    "\n",
    "The alternate hypothesis is that the proportion of applicants with black-sounding names who were called back is less than the proportion of applicants with white-sounding names who were called back:\n",
    "\n",
    "p_b < p_w"
   ]
  },
  {
   "cell_type": "markdown",
   "metadata": {},
   "source": [
    "### 3. Compute margin of error, confidence interval, and p-value ###"
   ]
  },
  {
   "cell_type": "code",
   "execution_count": 56,
   "metadata": {},
   "outputs": [
    {
     "name": "stdout",
     "output_type": "stream",
     "text": [
      "The margin of error is 0.012802505339402668\n",
      "The confidence interval is (-0.04483535954884825, -0.019230348870042917)\n",
      "The p-value is 1.9919434187925383e-05\n"
     ]
    }
   ],
   "source": [
    "# Frequentist stats approach:\n",
    "# Find standard error, margin of error, and confidence interval\n",
    "\n",
    "std_error = ((prop_b_success*(1-prop_b_success) / num_b) + (prop_w_success*(1-prop_w_success) / num_w))**(0.5)\n",
    "\n",
    "#Find margin of error, assuming a confidence level of 95%\n",
    "z_value = stats.norm.ppf(.95)\n",
    "m_error = z_value * std_error\n",
    "print('The margin of error is', m_error)\n",
    "\n",
    "#Find 95% confidence interval\n",
    "conf_int = (((prop_b_success - prop_w_success) - m_error), (prop_b_success - prop_w_success) + m_error)\n",
    "print('The confidence interval is', conf_int)\n",
    "\n",
    "#Conduct hypothesis test and find p-value\n",
    "p_value = proportions_ztest([b_num_success, w_num_success], [num_b, num_w], alternative='smaller')[1]\n",
    "print('The p-value is', p_value)"
   ]
  },
  {
   "cell_type": "code",
   "execution_count": 57,
   "metadata": {},
   "outputs": [
    {
     "name": "stdout",
     "output_type": "stream",
     "text": [
      "The bootstrap confidence interval is [-0.04722793 -0.01683778]\n",
      "The p-value is 0.0001\n"
     ]
    }
   ],
   "source": [
    "#Bootstrapping approach to find confidence interval:\n",
    "\n",
    "#Helper function to calculate the difference in proportions of callbacks between two samples of data\n",
    "def find_diff_prop(data_1, data_2):\n",
    "    return float(np.sum(data_1)) / len(data_1) - float(np.sum(data_2)) / len(data_2)\n",
    "\n",
    "#Resample from each sample of data separately, then calculate bootstrap replicate difference in proportions of callbacks; repeat a large number of times. The 95% confidence interval includes the middle 95% of all the bootstrap replicates\n",
    "def bootstrap_conf_int(data_1, data_2, size=10000):\n",
    "    bootstrap_replicates = np.empty(size)\n",
    "    for i in range(size):\n",
    "        data_1_resample = np.random.choice(data_1, len(data_1))\n",
    "        data_2_resample = np.random.choice(data_2, len(data_2))\n",
    "        bootstrap_replicates[i] = find_diff_prop(data_1_resample, data_2_resample)\n",
    "    return np.percentile(bootstrap_replicates, [2.5, 97.5])\n",
    "\n",
    "conf_int = bootstrap_conf_int(b['call'], w['call'])\n",
    "print('The bootstrap confidence interval is', conf_int)\n",
    "\n",
    "#Permutation test to find the p-value:\n",
    "#Function to generate a permutation sample; first shuffle the data, and then draw a sample of the same size as one of the original samples. Use the remaining values for the second sample.\n",
    "def perm_sample(vals, len_data_1):\n",
    "    callbacks_perm = np.random.permutation(vals)\n",
    "    perm_sample_1 = callbacks_perm[:len_data_1]\n",
    "    perm_sample_2 = callbacks_perm[len_data_1:]\n",
    "    return perm_sample_1, perm_sample_2\n",
    "\n",
    "#Function to calculate a large number of permutation replicates for the difference in proportions of callbacks    \n",
    "def draw_perm_reps(size=10000):\n",
    "    pt_replicates = np.empty(size)\n",
    "    for i in range(size):\n",
    "        data_1, data_2 = perm_sample(data.call.values, num_b)\n",
    "        pt_replicates[i] = find_diff_prop(data_1, data_2)\n",
    "    return pt_replicates\n",
    "\n",
    "perm_replicates = draw_perm_reps()\n",
    "\n",
    "#Calculate p-value as the percentage of permutation replicates that are less than or equal to the observed difference in proportions of callbacks in the original data\n",
    "p = float(np.sum(perm_replicates <= (prop_b_success - prop_w_success))) / len(perm_replicates)\n",
    "print('The p-value is', p)"
   ]
  },
  {
   "cell_type": "markdown",
   "metadata": {},
   "source": [
    "### 4. Write a story describing the statistical significance in the context of the original problem ###"
   ]
  },
  {
   "cell_type": "markdown",
   "metadata": {
    "collapsed": true
   },
   "source": [
    "The analyses from the frequentist stats approach as well as the bootstrapping approach resulted in a very small p-value. The p-value is the probability of getting a sample statistic value as extreme or more extreme than what is observed from the data, when the null hypothesis is true. Since the computed p-values from both approaches are very small, this implies that it is very unlikely to obtain, by random chance alone, a difference in the proportions of callbacks between applicants with black-sounding names versus those with white-sounding names as small as what was calculated in the data. Thus our data is very contradictory to the null hypothesis. We have sufficient evidence to reject the null hypothesis and conclude that the interview callback rate for job applicants with black-sounding names is less than the callback rate for applicants with white-sounding names.  \n",
    "\n",
    "The frequentist 95% confidence interval was calculated using a method such that 95% of all confidence intervals capture the true (population) difference in the proportions of callbacks. The value 0 is not included in the interval we calculated. Since there is a 95% probablity that this interval captures the true difference in proportions of callbacks, and 0 is not included in the interval, there is sufficient evidence that the true difference in callback rates by race/name is not zero. The bootstrapped interval also was calculated in a similar manner and does not include 0. Furthermore, the range of probable values in both intervals (from the frequentist and bootstrapping approaches) for prop_b_success - prop_w_success are all negative. This suggests that the true rate of callbacks for applicants with black-sounding names is less than the true rate of callbacks for applicants with white-sounding names."
   ]
  },
  {
   "cell_type": "markdown",
   "metadata": {},
   "source": [
    "### 5. Does your analysis mean that race/name is the most important factor in callback success? Why or why not? If not, how would you amend your analysis? ###"
   ]
  },
  {
   "cell_type": "markdown",
   "metadata": {},
   "source": [
    "This analysis does not mean that race/name is the most important factor in interview callback success. It means that race is one factor that has a statistically significant effect on callback rates. There could be other variables that affect callback success; individual hypothesis tests would need to be conducted on other variables of interest to determine whether they are statistically significant to callback success. In addition, some of these variables may be dependent on each other. Other measures or tests such as graphing, computing correlations or chi-squared tests for association can help determine if there is a dependence between race/name and other variables."
   ]
  }
 ],
 "metadata": {
  "kernelspec": {
   "display_name": "Python 3",
   "language": "python",
   "name": "python3"
  },
  "language_info": {
   "codemirror_mode": {
    "name": "ipython",
    "version": 3
   },
   "file_extension": ".py",
   "mimetype": "text/x-python",
   "name": "python",
   "nbconvert_exporter": "python",
   "pygments_lexer": "ipython3",
   "version": "3.6.6"
  }
 },
 "nbformat": 4,
 "nbformat_minor": 1
}
